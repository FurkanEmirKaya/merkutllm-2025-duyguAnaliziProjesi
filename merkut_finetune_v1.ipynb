{
  "nbformat": 4,
  "nbformat_minor": 0,
  "metadata": {
    "colab": {
      "provenance": [],
      "gpuType": "A100",
      "machine_shape": "hm"
    },
    "kernelspec": {
      "name": "python3",
      "display_name": "Python 3"
    },
    "language_info": {
      "name": "python"
    },
    "accelerator": "GPU",
    "widgets": {
      "application/vnd.jupyter.widget-state+json": {
        "e74f0b4cf9e9467e95a7b77cb9669f2e": {
          "model_module": "@jupyter-widgets/controls",
          "model_name": "HBoxModel",
          "model_module_version": "1.5.0",
          "state": {
            "_dom_classes": [],
            "_model_module": "@jupyter-widgets/controls",
            "_model_module_version": "1.5.0",
            "_model_name": "HBoxModel",
            "_view_count": null,
            "_view_module": "@jupyter-widgets/controls",
            "_view_module_version": "1.5.0",
            "_view_name": "HBoxView",
            "box_style": "",
            "children": [
              "IPY_MODEL_93b5591f9c3647ceb9d373b83c10d8c5",
              "IPY_MODEL_a877bb2550ab4af78d0eeb79b755f180",
              "IPY_MODEL_6113168f52f7481f89e631b6f9e4927a"
            ],
            "layout": "IPY_MODEL_6fdc8e59ab384f02a4dfb725f71eb239"
          }
        },
        "93b5591f9c3647ceb9d373b83c10d8c5": {
          "model_module": "@jupyter-widgets/controls",
          "model_name": "HTMLModel",
          "model_module_version": "1.5.0",
          "state": {
            "_dom_classes": [],
            "_model_module": "@jupyter-widgets/controls",
            "_model_module_version": "1.5.0",
            "_model_name": "HTMLModel",
            "_view_count": null,
            "_view_module": "@jupyter-widgets/controls",
            "_view_module_version": "1.5.0",
            "_view_name": "HTMLView",
            "description": "",
            "description_tooltip": null,
            "layout": "IPY_MODEL_62f3a7c20e024ae5a0b3063bb2710c0c",
            "placeholder": "​",
            "style": "IPY_MODEL_d1e1f1fe1e2f4a56b1ce1f338eb61da6",
            "value": "Map: 100%"
          }
        },
        "a877bb2550ab4af78d0eeb79b755f180": {
          "model_module": "@jupyter-widgets/controls",
          "model_name": "FloatProgressModel",
          "model_module_version": "1.5.0",
          "state": {
            "_dom_classes": [],
            "_model_module": "@jupyter-widgets/controls",
            "_model_module_version": "1.5.0",
            "_model_name": "FloatProgressModel",
            "_view_count": null,
            "_view_module": "@jupyter-widgets/controls",
            "_view_module_version": "1.5.0",
            "_view_name": "ProgressView",
            "bar_style": "success",
            "description": "",
            "description_tooltip": null,
            "layout": "IPY_MODEL_ed54576b66014d1da8da74c468a0137f",
            "max": 13252,
            "min": 0,
            "orientation": "horizontal",
            "style": "IPY_MODEL_fc8832b406be477f8250c8129ae04d60",
            "value": 13252
          }
        },
        "6113168f52f7481f89e631b6f9e4927a": {
          "model_module": "@jupyter-widgets/controls",
          "model_name": "HTMLModel",
          "model_module_version": "1.5.0",
          "state": {
            "_dom_classes": [],
            "_model_module": "@jupyter-widgets/controls",
            "_model_module_version": "1.5.0",
            "_model_name": "HTMLModel",
            "_view_count": null,
            "_view_module": "@jupyter-widgets/controls",
            "_view_module_version": "1.5.0",
            "_view_name": "HTMLView",
            "description": "",
            "description_tooltip": null,
            "layout": "IPY_MODEL_81269d5543ea44eda47add9837c9edfc",
            "placeholder": "​",
            "style": "IPY_MODEL_c4ef44aac7a44deaaf3f4483c03e5ecd",
            "value": " 13252/13252 [00:05&lt;00:00, 2658.62 examples/s]"
          }
        },
        "6fdc8e59ab384f02a4dfb725f71eb239": {
          "model_module": "@jupyter-widgets/base",
          "model_name": "LayoutModel",
          "model_module_version": "1.2.0",
          "state": {
            "_model_module": "@jupyter-widgets/base",
            "_model_module_version": "1.2.0",
            "_model_name": "LayoutModel",
            "_view_count": null,
            "_view_module": "@jupyter-widgets/base",
            "_view_module_version": "1.2.0",
            "_view_name": "LayoutView",
            "align_content": null,
            "align_items": null,
            "align_self": null,
            "border": null,
            "bottom": null,
            "display": null,
            "flex": null,
            "flex_flow": null,
            "grid_area": null,
            "grid_auto_columns": null,
            "grid_auto_flow": null,
            "grid_auto_rows": null,
            "grid_column": null,
            "grid_gap": null,
            "grid_row": null,
            "grid_template_areas": null,
            "grid_template_columns": null,
            "grid_template_rows": null,
            "height": null,
            "justify_content": null,
            "justify_items": null,
            "left": null,
            "margin": null,
            "max_height": null,
            "max_width": null,
            "min_height": null,
            "min_width": null,
            "object_fit": null,
            "object_position": null,
            "order": null,
            "overflow": null,
            "overflow_x": null,
            "overflow_y": null,
            "padding": null,
            "right": null,
            "top": null,
            "visibility": null,
            "width": null
          }
        },
        "62f3a7c20e024ae5a0b3063bb2710c0c": {
          "model_module": "@jupyter-widgets/base",
          "model_name": "LayoutModel",
          "model_module_version": "1.2.0",
          "state": {
            "_model_module": "@jupyter-widgets/base",
            "_model_module_version": "1.2.0",
            "_model_name": "LayoutModel",
            "_view_count": null,
            "_view_module": "@jupyter-widgets/base",
            "_view_module_version": "1.2.0",
            "_view_name": "LayoutView",
            "align_content": null,
            "align_items": null,
            "align_self": null,
            "border": null,
            "bottom": null,
            "display": null,
            "flex": null,
            "flex_flow": null,
            "grid_area": null,
            "grid_auto_columns": null,
            "grid_auto_flow": null,
            "grid_auto_rows": null,
            "grid_column": null,
            "grid_gap": null,
            "grid_row": null,
            "grid_template_areas": null,
            "grid_template_columns": null,
            "grid_template_rows": null,
            "height": null,
            "justify_content": null,
            "justify_items": null,
            "left": null,
            "margin": null,
            "max_height": null,
            "max_width": null,
            "min_height": null,
            "min_width": null,
            "object_fit": null,
            "object_position": null,
            "order": null,
            "overflow": null,
            "overflow_x": null,
            "overflow_y": null,
            "padding": null,
            "right": null,
            "top": null,
            "visibility": null,
            "width": null
          }
        },
        "d1e1f1fe1e2f4a56b1ce1f338eb61da6": {
          "model_module": "@jupyter-widgets/controls",
          "model_name": "DescriptionStyleModel",
          "model_module_version": "1.5.0",
          "state": {
            "_model_module": "@jupyter-widgets/controls",
            "_model_module_version": "1.5.0",
            "_model_name": "DescriptionStyleModel",
            "_view_count": null,
            "_view_module": "@jupyter-widgets/base",
            "_view_module_version": "1.2.0",
            "_view_name": "StyleView",
            "description_width": ""
          }
        },
        "ed54576b66014d1da8da74c468a0137f": {
          "model_module": "@jupyter-widgets/base",
          "model_name": "LayoutModel",
          "model_module_version": "1.2.0",
          "state": {
            "_model_module": "@jupyter-widgets/base",
            "_model_module_version": "1.2.0",
            "_model_name": "LayoutModel",
            "_view_count": null,
            "_view_module": "@jupyter-widgets/base",
            "_view_module_version": "1.2.0",
            "_view_name": "LayoutView",
            "align_content": null,
            "align_items": null,
            "align_self": null,
            "border": null,
            "bottom": null,
            "display": null,
            "flex": null,
            "flex_flow": null,
            "grid_area": null,
            "grid_auto_columns": null,
            "grid_auto_flow": null,
            "grid_auto_rows": null,
            "grid_column": null,
            "grid_gap": null,
            "grid_row": null,
            "grid_template_areas": null,
            "grid_template_columns": null,
            "grid_template_rows": null,
            "height": null,
            "justify_content": null,
            "justify_items": null,
            "left": null,
            "margin": null,
            "max_height": null,
            "max_width": null,
            "min_height": null,
            "min_width": null,
            "object_fit": null,
            "object_position": null,
            "order": null,
            "overflow": null,
            "overflow_x": null,
            "overflow_y": null,
            "padding": null,
            "right": null,
            "top": null,
            "visibility": null,
            "width": null
          }
        },
        "fc8832b406be477f8250c8129ae04d60": {
          "model_module": "@jupyter-widgets/controls",
          "model_name": "ProgressStyleModel",
          "model_module_version": "1.5.0",
          "state": {
            "_model_module": "@jupyter-widgets/controls",
            "_model_module_version": "1.5.0",
            "_model_name": "ProgressStyleModel",
            "_view_count": null,
            "_view_module": "@jupyter-widgets/base",
            "_view_module_version": "1.2.0",
            "_view_name": "StyleView",
            "bar_color": null,
            "description_width": ""
          }
        },
        "81269d5543ea44eda47add9837c9edfc": {
          "model_module": "@jupyter-widgets/base",
          "model_name": "LayoutModel",
          "model_module_version": "1.2.0",
          "state": {
            "_model_module": "@jupyter-widgets/base",
            "_model_module_version": "1.2.0",
            "_model_name": "LayoutModel",
            "_view_count": null,
            "_view_module": "@jupyter-widgets/base",
            "_view_module_version": "1.2.0",
            "_view_name": "LayoutView",
            "align_content": null,
            "align_items": null,
            "align_self": null,
            "border": null,
            "bottom": null,
            "display": null,
            "flex": null,
            "flex_flow": null,
            "grid_area": null,
            "grid_auto_columns": null,
            "grid_auto_flow": null,
            "grid_auto_rows": null,
            "grid_column": null,
            "grid_gap": null,
            "grid_row": null,
            "grid_template_areas": null,
            "grid_template_columns": null,
            "grid_template_rows": null,
            "height": null,
            "justify_content": null,
            "justify_items": null,
            "left": null,
            "margin": null,
            "max_height": null,
            "max_width": null,
            "min_height": null,
            "min_width": null,
            "object_fit": null,
            "object_position": null,
            "order": null,
            "overflow": null,
            "overflow_x": null,
            "overflow_y": null,
            "padding": null,
            "right": null,
            "top": null,
            "visibility": null,
            "width": null
          }
        },
        "c4ef44aac7a44deaaf3f4483c03e5ecd": {
          "model_module": "@jupyter-widgets/controls",
          "model_name": "DescriptionStyleModel",
          "model_module_version": "1.5.0",
          "state": {
            "_model_module": "@jupyter-widgets/controls",
            "_model_module_version": "1.5.0",
            "_model_name": "DescriptionStyleModel",
            "_view_count": null,
            "_view_module": "@jupyter-widgets/base",
            "_view_module_version": "1.2.0",
            "_view_name": "StyleView",
            "description_width": ""
          }
        },
        "c05a979f0765470295f62aecab189810": {
          "model_module": "@jupyter-widgets/controls",
          "model_name": "HBoxModel",
          "model_module_version": "1.5.0",
          "state": {
            "_dom_classes": [],
            "_model_module": "@jupyter-widgets/controls",
            "_model_module_version": "1.5.0",
            "_model_name": "HBoxModel",
            "_view_count": null,
            "_view_module": "@jupyter-widgets/controls",
            "_view_module_version": "1.5.0",
            "_view_name": "HBoxView",
            "box_style": "",
            "children": [
              "IPY_MODEL_65c55e6b56614f528979ee2fa7d94b93",
              "IPY_MODEL_29ad515017624668ae7961f2e63ddcf1",
              "IPY_MODEL_da9e6d1a837b439387fecb00bdc15a90"
            ],
            "layout": "IPY_MODEL_b9017f1694b84f7ca4ea1b0505157020"
          }
        },
        "65c55e6b56614f528979ee2fa7d94b93": {
          "model_module": "@jupyter-widgets/controls",
          "model_name": "HTMLModel",
          "model_module_version": "1.5.0",
          "state": {
            "_dom_classes": [],
            "_model_module": "@jupyter-widgets/controls",
            "_model_module_version": "1.5.0",
            "_model_name": "HTMLModel",
            "_view_count": null,
            "_view_module": "@jupyter-widgets/controls",
            "_view_module_version": "1.5.0",
            "_view_name": "HTMLView",
            "description": "",
            "description_tooltip": null,
            "layout": "IPY_MODEL_217d7b72e83b4f7680bb013cfab4ffb9",
            "placeholder": "​",
            "style": "IPY_MODEL_634a67685bba465f9e9dd61326ca3ccb",
            "value": "Map: 100%"
          }
        },
        "29ad515017624668ae7961f2e63ddcf1": {
          "model_module": "@jupyter-widgets/controls",
          "model_name": "FloatProgressModel",
          "model_module_version": "1.5.0",
          "state": {
            "_dom_classes": [],
            "_model_module": "@jupyter-widgets/controls",
            "_model_module_version": "1.5.0",
            "_model_name": "FloatProgressModel",
            "_view_count": null,
            "_view_module": "@jupyter-widgets/controls",
            "_view_module_version": "1.5.0",
            "_view_name": "ProgressView",
            "bar_style": "success",
            "description": "",
            "description_tooltip": null,
            "layout": "IPY_MODEL_c710aacc0f6a45e693c2a6ebc21ad811",
            "max": 13252,
            "min": 0,
            "orientation": "horizontal",
            "style": "IPY_MODEL_54bad5f5cbc44d49b39329012d050ce4",
            "value": 13252
          }
        },
        "da9e6d1a837b439387fecb00bdc15a90": {
          "model_module": "@jupyter-widgets/controls",
          "model_name": "HTMLModel",
          "model_module_version": "1.5.0",
          "state": {
            "_dom_classes": [],
            "_model_module": "@jupyter-widgets/controls",
            "_model_module_version": "1.5.0",
            "_model_name": "HTMLModel",
            "_view_count": null,
            "_view_module": "@jupyter-widgets/controls",
            "_view_module_version": "1.5.0",
            "_view_name": "HTMLView",
            "description": "",
            "description_tooltip": null,
            "layout": "IPY_MODEL_227baa6b8d0a406d8f542a28c1e55fe2",
            "placeholder": "​",
            "style": "IPY_MODEL_6b94f58a3fe747d09da7e08e9040e8c0",
            "value": " 13252/13252 [00:00&lt;00:00, 139689.97 examples/s]"
          }
        },
        "b9017f1694b84f7ca4ea1b0505157020": {
          "model_module": "@jupyter-widgets/base",
          "model_name": "LayoutModel",
          "model_module_version": "1.2.0",
          "state": {
            "_model_module": "@jupyter-widgets/base",
            "_model_module_version": "1.2.0",
            "_model_name": "LayoutModel",
            "_view_count": null,
            "_view_module": "@jupyter-widgets/base",
            "_view_module_version": "1.2.0",
            "_view_name": "LayoutView",
            "align_content": null,
            "align_items": null,
            "align_self": null,
            "border": null,
            "bottom": null,
            "display": null,
            "flex": null,
            "flex_flow": null,
            "grid_area": null,
            "grid_auto_columns": null,
            "grid_auto_flow": null,
            "grid_auto_rows": null,
            "grid_column": null,
            "grid_gap": null,
            "grid_row": null,
            "grid_template_areas": null,
            "grid_template_columns": null,
            "grid_template_rows": null,
            "height": null,
            "justify_content": null,
            "justify_items": null,
            "left": null,
            "margin": null,
            "max_height": null,
            "max_width": null,
            "min_height": null,
            "min_width": null,
            "object_fit": null,
            "object_position": null,
            "order": null,
            "overflow": null,
            "overflow_x": null,
            "overflow_y": null,
            "padding": null,
            "right": null,
            "top": null,
            "visibility": null,
            "width": null
          }
        },
        "217d7b72e83b4f7680bb013cfab4ffb9": {
          "model_module": "@jupyter-widgets/base",
          "model_name": "LayoutModel",
          "model_module_version": "1.2.0",
          "state": {
            "_model_module": "@jupyter-widgets/base",
            "_model_module_version": "1.2.0",
            "_model_name": "LayoutModel",
            "_view_count": null,
            "_view_module": "@jupyter-widgets/base",
            "_view_module_version": "1.2.0",
            "_view_name": "LayoutView",
            "align_content": null,
            "align_items": null,
            "align_self": null,
            "border": null,
            "bottom": null,
            "display": null,
            "flex": null,
            "flex_flow": null,
            "grid_area": null,
            "grid_auto_columns": null,
            "grid_auto_flow": null,
            "grid_auto_rows": null,
            "grid_column": null,
            "grid_gap": null,
            "grid_row": null,
            "grid_template_areas": null,
            "grid_template_columns": null,
            "grid_template_rows": null,
            "height": null,
            "justify_content": null,
            "justify_items": null,
            "left": null,
            "margin": null,
            "max_height": null,
            "max_width": null,
            "min_height": null,
            "min_width": null,
            "object_fit": null,
            "object_position": null,
            "order": null,
            "overflow": null,
            "overflow_x": null,
            "overflow_y": null,
            "padding": null,
            "right": null,
            "top": null,
            "visibility": null,
            "width": null
          }
        },
        "634a67685bba465f9e9dd61326ca3ccb": {
          "model_module": "@jupyter-widgets/controls",
          "model_name": "DescriptionStyleModel",
          "model_module_version": "1.5.0",
          "state": {
            "_model_module": "@jupyter-widgets/controls",
            "_model_module_version": "1.5.0",
            "_model_name": "DescriptionStyleModel",
            "_view_count": null,
            "_view_module": "@jupyter-widgets/base",
            "_view_module_version": "1.2.0",
            "_view_name": "StyleView",
            "description_width": ""
          }
        },
        "c710aacc0f6a45e693c2a6ebc21ad811": {
          "model_module": "@jupyter-widgets/base",
          "model_name": "LayoutModel",
          "model_module_version": "1.2.0",
          "state": {
            "_model_module": "@jupyter-widgets/base",
            "_model_module_version": "1.2.0",
            "_model_name": "LayoutModel",
            "_view_count": null,
            "_view_module": "@jupyter-widgets/base",
            "_view_module_version": "1.2.0",
            "_view_name": "LayoutView",
            "align_content": null,
            "align_items": null,
            "align_self": null,
            "border": null,
            "bottom": null,
            "display": null,
            "flex": null,
            "flex_flow": null,
            "grid_area": null,
            "grid_auto_columns": null,
            "grid_auto_flow": null,
            "grid_auto_rows": null,
            "grid_column": null,
            "grid_gap": null,
            "grid_row": null,
            "grid_template_areas": null,
            "grid_template_columns": null,
            "grid_template_rows": null,
            "height": null,
            "justify_content": null,
            "justify_items": null,
            "left": null,
            "margin": null,
            "max_height": null,
            "max_width": null,
            "min_height": null,
            "min_width": null,
            "object_fit": null,
            "object_position": null,
            "order": null,
            "overflow": null,
            "overflow_x": null,
            "overflow_y": null,
            "padding": null,
            "right": null,
            "top": null,
            "visibility": null,
            "width": null
          }
        },
        "54bad5f5cbc44d49b39329012d050ce4": {
          "model_module": "@jupyter-widgets/controls",
          "model_name": "ProgressStyleModel",
          "model_module_version": "1.5.0",
          "state": {
            "_model_module": "@jupyter-widgets/controls",
            "_model_module_version": "1.5.0",
            "_model_name": "ProgressStyleModel",
            "_view_count": null,
            "_view_module": "@jupyter-widgets/base",
            "_view_module_version": "1.2.0",
            "_view_name": "StyleView",
            "bar_color": null,
            "description_width": ""
          }
        },
        "227baa6b8d0a406d8f542a28c1e55fe2": {
          "model_module": "@jupyter-widgets/base",
          "model_name": "LayoutModel",
          "model_module_version": "1.2.0",
          "state": {
            "_model_module": "@jupyter-widgets/base",
            "_model_module_version": "1.2.0",
            "_model_name": "LayoutModel",
            "_view_count": null,
            "_view_module": "@jupyter-widgets/base",
            "_view_module_version": "1.2.0",
            "_view_name": "LayoutView",
            "align_content": null,
            "align_items": null,
            "align_self": null,
            "border": null,
            "bottom": null,
            "display": null,
            "flex": null,
            "flex_flow": null,
            "grid_area": null,
            "grid_auto_columns": null,
            "grid_auto_flow": null,
            "grid_auto_rows": null,
            "grid_column": null,
            "grid_gap": null,
            "grid_row": null,
            "grid_template_areas": null,
            "grid_template_columns": null,
            "grid_template_rows": null,
            "height": null,
            "justify_content": null,
            "justify_items": null,
            "left": null,
            "margin": null,
            "max_height": null,
            "max_width": null,
            "min_height": null,
            "min_width": null,
            "object_fit": null,
            "object_position": null,
            "order": null,
            "overflow": null,
            "overflow_x": null,
            "overflow_y": null,
            "padding": null,
            "right": null,
            "top": null,
            "visibility": null,
            "width": null
          }
        },
        "6b94f58a3fe747d09da7e08e9040e8c0": {
          "model_module": "@jupyter-widgets/controls",
          "model_name": "DescriptionStyleModel",
          "model_module_version": "1.5.0",
          "state": {
            "_model_module": "@jupyter-widgets/controls",
            "_model_module_version": "1.5.0",
            "_model_name": "DescriptionStyleModel",
            "_view_count": null,
            "_view_module": "@jupyter-widgets/base",
            "_view_module_version": "1.2.0",
            "_view_name": "StyleView",
            "description_width": ""
          }
        }
      }
    }
  },
  "cells": [
    {
      "cell_type": "markdown",
      "source": [
        "# **Merküt - Destan Doğal Dil İşleme Takımı**\n",
        "---\n",
        "![merküt_logo_small.png](data:image/png;base64,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)"
      ],
      "metadata": {
        "id": "3osR5eKDxtT7"
      }
    },
    {
      "cell_type": "markdown",
      "source": [
        "**A100 High-RAM:** *45 Epoch ~ 10 Compute Unit*"
      ],
      "metadata": {
        "id": "Jf7XK3QL-Nb6"
      }
    },
    {
      "cell_type": "markdown",
      "source": [
        "**Fine-Tuning Kodları**"
      ],
      "metadata": {
        "id": "sBgFLtmxyo69"
      }
    },
    {
      "cell_type": "markdown",
      "source": [
        "\n",
        "\n",
        "```\n",
        "# Donanım Kontrolü\n",
        "```\n",
        "\n"
      ],
      "metadata": {
        "id": "vNa_LyR10EnS"
      }
    },
    {
      "cell_type": "code",
      "source": [
        "!nvidia-smi"
      ],
      "metadata": {
        "colab": {
          "base_uri": "https://localhost:8080/"
        },
        "id": "1rhcuNRG6kpW",
        "outputId": "3d7953dc-92ba-4419-fde8-c1e9bef8b894"
      },
      "execution_count": null,
      "outputs": [
        {
          "output_type": "stream",
          "name": "stdout",
          "text": [
            "Thu Mar 27 13:18:04 2025       \n",
            "+-----------------------------------------------------------------------------------------+\n",
            "| NVIDIA-SMI 550.54.15              Driver Version: 550.54.15      CUDA Version: 12.4     |\n",
            "|-----------------------------------------+------------------------+----------------------+\n",
            "| GPU  Name                 Persistence-M | Bus-Id          Disp.A | Volatile Uncorr. ECC |\n",
            "| Fan  Temp   Perf          Pwr:Usage/Cap |           Memory-Usage | GPU-Util  Compute M. |\n",
            "|                                         |                        |               MIG M. |\n",
            "|=========================================+========================+======================|\n",
            "|   0  NVIDIA A100-SXM4-40GB          Off |   00000000:00:04.0 Off |                    0 |\n",
            "| N/A   36C    P0             48W /  400W |       0MiB /  40960MiB |      0%      Default |\n",
            "|                                         |                        |             Disabled |\n",
            "+-----------------------------------------+------------------------+----------------------+\n",
            "                                                                                         \n",
            "+-----------------------------------------------------------------------------------------+\n",
            "| Processes:                                                                              |\n",
            "|  GPU   GI   CI        PID   Type   Process name                              GPU Memory |\n",
            "|        ID   ID                                                               Usage      |\n",
            "|=========================================================================================|\n",
            "|  No running processes found                                                             |\n",
            "+-----------------------------------------------------------------------------------------+\n"
          ]
        }
      ]
    },
    {
      "cell_type": "markdown",
      "source": [
        "\n",
        "\n",
        "```\n",
        "# Google Drive ve virtualenv Entegrasyonu\n",
        "```\n",
        "\n"
      ],
      "metadata": {
        "id": "xBH6_uMc0RQT"
      }
    },
    {
      "cell_type": "code",
      "source": [
        "from google.colab import drive\n",
        "drive.mount(\"/content/drive\")\n",
        "!pip install virtualenv\n",
        "!virtualenv /content/drive/MyDrive/merkut_llm_2025/colab_virtual_env_v1"
      ],
      "metadata": {
        "colab": {
          "base_uri": "https://localhost:8080/"
        },
        "id": "hmUIKtTj50PQ",
        "outputId": "6c2bd5f0-cee5-4650-9eb9-ef6410bcf00b"
      },
      "execution_count": null,
      "outputs": [
        {
          "output_type": "stream",
          "name": "stdout",
          "text": [
            "Drive already mounted at /content/drive; to attempt to forcibly remount, call drive.mount(\"/content/drive\", force_remount=True).\n",
            "Requirement already satisfied: virtualenv in /usr/local/lib/python3.11/dist-packages (20.29.3)\n",
            "Requirement already satisfied: distlib<1,>=0.3.7 in /usr/local/lib/python3.11/dist-packages (from virtualenv) (0.3.9)\n",
            "Requirement already satisfied: filelock<4,>=3.12.2 in /usr/local/lib/python3.11/dist-packages (from virtualenv) (3.18.0)\n",
            "Requirement already satisfied: platformdirs<5,>=3.9.1 in /usr/local/lib/python3.11/dist-packages (from virtualenv) (4.3.7)\n",
            "created virtual environment CPython3.11.11.final.0-64 in 7771ms\n",
            "  creator CPython3Posix(dest=/content/drive/MyDrive/merkut_llm_2025/colab_virtual_env_v1, clear=False, no_vcs_ignore=False, global=False)\n",
            "  seeder FromAppData(download=False, pip=bundle, setuptools=bundle, wheel=bundle, via=copy, app_data_dir=/root/.local/share/virtualenv)\n",
            "    added seed packages: PyYAML==6.0.2, aiohappyeyeballs==2.6.1, aiohttp==3.11.14, aiosignal==1.3.2, attrs==25.3.0, certifi==2025.1.31, charset_normalizer==3.4.1, datasets==3.4.1, dill==0.3.8, filelock==3.18.0, frozenlist==1.5.0, fsspec==2024.12.0, huggingface_hub==0.29.3, idna==3.10, multidict==6.2.0, multiprocess==0.70.16, numpy==2.2.4, packaging==24.2, pandas==2.2.3, pip==25.0.1, propcache==0.3.1, pyarrow==19.0.1, python_dateutil==2.9.0.post0, pytz==2025.2, regex==2024.11.6, requests==2.32.3, safetensors==0.5.3, setuptools==75.8.0, six==1.17.0, tokenizers==0.21.1, tqdm==4.67.1, transformers==4.50.2, typing_extensions==4.13.0, tzdata==2025.2, urllib3==2.3.0, wheel==0.45.1, xxhash==3.5.0, yarl==1.18.3\n",
            "  activators BashActivator,CShellActivator,FishActivator,NushellActivator,PowerShellActivator,PythonActivator\n"
          ]
        }
      ]
    },
    {
      "cell_type": "markdown",
      "source": [
        "\n",
        "\n",
        "```\n",
        "# virtualenv ile yüklenecek kütüphaneler\n",
        "```\n",
        "\n"
      ],
      "metadata": {
        "id": "6BrCehQp0j9H"
      }
    },
    {
      "cell_type": "code",
      "source": [
        "!source /content/drive/MyDrive/merkut_llm_2025/colab_virtual_env_v1/bin/activate; pip install datasets\n",
        "!source /content/drive/MyDrive/merkut_llm_2025/colab_virtual_env_v1/bin/activate; pip install transformers\n",
        "!source /content/drive/MyDrive/merkut_llm_2025/colab_virtual_env_v1/bin/activate; pip install multiprocess\n",
        "!source /content/drive/MyDrive/merkut_llm_2025/colab_virtual_env_v1/bin/activate; pip install dill==0.3.6"
      ],
      "metadata": {
        "colab": {
          "base_uri": "https://localhost:8080/"
        },
        "id": "d_Po1an45Ct_",
        "outputId": "0855214c-6f4c-4dd8-ea6b-0291327960a0"
      },
      "execution_count": null,
      "outputs": [
        {
          "output_type": "stream",
          "name": "stdout",
          "text": [
            "/bin/bash: /content/drive/MyDrive/merkut_llm_2025/colab_virtual_env_v1/bin/pip: /content/drive/MyDrive/merkut_llm_2025/colab_virtual_env_v1/bin/python: bad interpreter: Permission denied\n",
            "/bin/bash: /content/drive/MyDrive/merkut_llm_2025/colab_virtual_env_v1/bin/pip: /content/drive/MyDrive/merkut_llm_2025/colab_virtual_env_v1/bin/python: bad interpreter: Permission denied\n",
            "/bin/bash: /content/drive/MyDrive/merkut_llm_2025/colab_virtual_env_v1/bin/pip: /content/drive/MyDrive/merkut_llm_2025/colab_virtual_env_v1/bin/python: bad interpreter: Permission denied\n",
            "/bin/bash: /content/drive/MyDrive/merkut_llm_2025/colab_virtual_env_v1/bin/pip: /content/drive/MyDrive/merkut_llm_2025/colab_virtual_env_v1/bin/python: bad interpreter: Permission denied\n"
          ]
        }
      ]
    },
    {
      "cell_type": "markdown",
      "source": [
        "\n",
        "\n",
        "```\n",
        "# virtualenv'deki kütüphaneleri projemize aktarıyoruz\n",
        "```\n",
        "\n"
      ],
      "metadata": {
        "id": "bW8s0O1n0pxw"
      }
    },
    {
      "cell_type": "code",
      "source": [
        "import sys\n",
        "sys.path.append(\"/content/drive/MyDrive/merkut_llm_2025/colab_virtual_env_v1/lib/python3.11/site-packages\")"
      ],
      "metadata": {
        "id": "Vjieym9_Icdl"
      },
      "execution_count": null,
      "outputs": []
    },
    {
      "cell_type": "code",
      "execution_count": null,
      "metadata": {
        "id": "AohlyrFF3GVf"
      },
      "outputs": [],
      "source": [
        "from transformers import AutoTokenizer, AutoModelForSequenceClassification, Trainer, TrainingArguments, DataCollatorWithPadding\n",
        "from datasets import Dataset\n",
        "import pandas as pd\n",
        "import torch\n",
        "import os, re"
      ]
    },
    {
      "cell_type": "code",
      "source": [
        "print(\"Başlangıç: Donanım kontrolü yapılıyor...\")\n",
        "device = torch.device(\"cuda\" if torch.cuda.is_available() else \"cpu\")\n",
        "print(f\"Kullanılan cihaz: {device}\")\n",
        "if device.type == \"cuda\":\n",
        "    print(\"CUDA Mevcut:\", torch.cuda.is_available())\n",
        "    print(f\"CUDA Cihazı: {torch.cuda.get_device_name(0)}\")\n",
        "    print(\"CUDA Versiyonu:\", torch.version.cuda)\n",
        "    print(\"cuDNN Versiyonu:\", torch.backends.cudnn.version())"
      ],
      "metadata": {
        "colab": {
          "base_uri": "https://localhost:8080/"
        },
        "id": "aVM3RRr962-1",
        "outputId": "62ed7af5-306a-41a0-a81d-39c31f5d968a"
      },
      "execution_count": null,
      "outputs": [
        {
          "output_type": "stream",
          "name": "stdout",
          "text": [
            "Başlangıç: Donanım kontrolü yapılıyor...\n",
            "Kullanılan cihaz: cuda\n",
            "CUDA Mevcut: True\n",
            "CUDA Cihazı: NVIDIA A100-SXM4-40GB\n",
            "CUDA Versiyonu: 12.4\n",
            "cuDNN Versiyonu: 90300\n"
          ]
        }
      ]
    },
    {
      "cell_type": "code",
      "source": [
        "raw_dataset_path = \"/content/drive/MyDrive/merkut_llm_2025/llm_datasets/merged_dataset.csv\"\n",
        "cleaned_dataset_path = \"/content/drive/MyDrive/merkut_llm_2025/llm_datasets/merged_dataset_cleaned.csv\"\n",
        "pretrained_model_path = \"/content/drive/MyDrive/merkut_llm_2025/bert_finetuned_v2\"  # Önceden eğitilmiş model yolu\n",
        "checkpoint_path = \"/content/drive/MyDrive/merkut_llm_2025/results_v6/checkpoint-1860/checkpoint-2790\""
      ],
      "metadata": {
        "id": "u4Tsgz5K7KJz"
      },
      "execution_count": null,
      "outputs": []
    },
    {
      "cell_type": "code",
      "source": [
        "print(\"Veri seti temizleniyor...\")\n",
        "if not os.path.exists(cleaned_dataset_path):\n",
        "    df = pd.read_csv(raw_dataset_path, delimiter=\"|\")\n",
        "    df_cleaned = df.dropna(subset=[\"target\", \"text\"])\n",
        "    df_cleaned = df_cleaned[df_cleaned[\"target\"].isin([\"INSULT\", \"RACIST\", \"SEXIST\", \"PROFANITY\", \"OTHER\"])]\n",
        "    df_cleaned.to_csv(cleaned_dataset_path, index=False, sep=\"|\")\n",
        "    print(\"Veri seti temizlendi ve kaydedildi.\")\n",
        "else:\n",
        "    print(\"Temizlenmiş veri seti mevcut.\")"
      ],
      "metadata": {
        "colab": {
          "base_uri": "https://localhost:8080/"
        },
        "id": "7os_Vq7MAwoz",
        "outputId": "4727a44b-1041-487d-9787-016365be42fb"
      },
      "execution_count": null,
      "outputs": [
        {
          "output_type": "stream",
          "name": "stdout",
          "text": [
            "Veri seti temizleniyor...\n",
            "Temizlenmiş veri seti mevcut.\n"
          ]
        }
      ]
    },
    {
      "cell_type": "code",
      "source": [
        "print(\"Veri seti yükleniyor...\")\n",
        "df = pd.read_csv(cleaned_dataset_path, delimiter=\"|\")\n",
        "print(f\"Toplam {len(df)} satır veri bulundu.\")\n",
        "\n",
        "dataset = Dataset.from_pandas(df)"
      ],
      "metadata": {
        "colab": {
          "base_uri": "https://localhost:8080/"
        },
        "id": "j4txR2gYNWvL",
        "outputId": "478fe049-ee08-43c7-a965-9b30860c0cef"
      },
      "execution_count": null,
      "outputs": [
        {
          "output_type": "stream",
          "name": "stdout",
          "text": [
            "Veri seti yükleniyor...\n",
            "Toplam 13252 satır veri bulundu.\n"
          ]
        }
      ]
    },
    {
      "cell_type": "code",
      "source": [
        "print(\"Model ve tokenizer yükleniyor...\")\n",
        "model = AutoModelForSequenceClassification.from_pretrained(checkpoint_path, num_labels=5, torch_dtype=torch.bfloat16).to(device)\n",
        "model.gradient_checkpointing_enable()\n",
        "tokenizer = AutoTokenizer.from_pretrained(pretrained_model_path) #"
      ],
      "metadata": {
        "colab": {
          "base_uri": "https://localhost:8080/"
        },
        "id": "lGjAAvHOOA1Z",
        "outputId": "869a8454-a2d7-4a19-ba65-a20b89b198d8"
      },
      "execution_count": null,
      "outputs": [
        {
          "output_type": "stream",
          "name": "stdout",
          "text": [
            "Model ve tokenizer yükleniyor...\n"
          ]
        }
      ]
    },
    {
      "cell_type": "code",
      "source": [
        "print(\"Veri seti tokenleştiriliyor...\")\n",
        "def preprocess_function(examples):\n",
        "    encoding = tokenizer(\n",
        "        examples[\"text\"],\n",
        "        truncation=True,\n",
        "        padding=\"max_length\",\n",
        "        max_length=512,\n",
        "        return_tensors=\"pt\" # Pytorch tensor\n",
        "    )\n",
        "    return {\n",
        "        \"input_ids\": encoding[\"input_ids\"],\n",
        "        \"attention_mask\": encoding[\"attention_mask\"]\n",
        "    }"
      ],
      "metadata": {
        "colab": {
          "base_uri": "https://localhost:8080/"
        },
        "id": "3BGIGYxoOUad",
        "outputId": "751c4e59-a986-4b2a-95b6-a9330a1ff3f7"
      },
      "execution_count": null,
      "outputs": [
        {
          "output_type": "stream",
          "name": "stdout",
          "text": [
            "Veri seti tokenleştiriliyor...\n"
          ]
        }
      ]
    },
    {
      "cell_type": "code",
      "source": [
        "tokenized_datasets = dataset.map(preprocess_function, batched=True, remove_columns=[\"text\"])"
      ],
      "metadata": {
        "colab": {
          "base_uri": "https://localhost:8080/",
          "height": 77,
          "referenced_widgets": [
            "e74f0b4cf9e9467e95a7b77cb9669f2e",
            "93b5591f9c3647ceb9d373b83c10d8c5",
            "a877bb2550ab4af78d0eeb79b755f180",
            "6113168f52f7481f89e631b6f9e4927a",
            "6fdc8e59ab384f02a4dfb725f71eb239",
            "62f3a7c20e024ae5a0b3063bb2710c0c",
            "d1e1f1fe1e2f4a56b1ce1f338eb61da6",
            "ed54576b66014d1da8da74c468a0137f",
            "fc8832b406be477f8250c8129ae04d60",
            "81269d5543ea44eda47add9837c9edfc",
            "c4ef44aac7a44deaaf3f4483c03e5ecd"
          ]
        },
        "id": "t22WTbyxOdnA",
        "outputId": "15bb1cab-928c-4c21-da66-3f2f39acf726"
      },
      "execution_count": null,
      "outputs": [
        {
          "output_type": "display_data",
          "data": {
            "text/plain": [
              "Map:   0%|          | 0/13252 [00:00<?, ? examples/s]"
            ],
            "application/vnd.jupyter.widget-view+json": {
              "version_major": 2,
              "version_minor": 0,
              "model_id": "e74f0b4cf9e9467e95a7b77cb9669f2e"
            }
          },
          "metadata": {}
        }
      ]
    },
    {
      "cell_type": "code",
      "source": [
        "label_mapping = {\n",
        "    \"INSULT\": 0,\n",
        "    \"RACIST\": 1,\n",
        "    \"SEXIST\": 2,\n",
        "    \"PROFANITY\": 3,\n",
        "    \"OTHER\": 4\n",
        "}"
      ],
      "metadata": {
        "id": "-kNWgzTzOiIV"
      },
      "execution_count": null,
      "outputs": []
    },
    {
      "cell_type": "code",
      "source": [
        "def preprocess_labels(examples):\n",
        "    examples[\"labels\"] = [label_mapping[label.upper()] for label in examples[\"target\"]]\n",
        "    return examples"
      ],
      "metadata": {
        "id": "hNptVlCvOo85"
      },
      "execution_count": null,
      "outputs": []
    },
    {
      "cell_type": "code",
      "source": [
        "tokenized_datasets = tokenized_datasets.map(preprocess_labels, batched=True, remove_columns=[\"target\"])\n",
        "print(\"Tokenizasyon ve etiket dönüştürme tamamlandı.\")\n",
        "tokenized_datasets = tokenized_datasets.remove_columns([\"is_offensive\"])"
      ],
      "metadata": {
        "colab": {
          "base_uri": "https://localhost:8080/",
          "height": 94,
          "referenced_widgets": [
            "c05a979f0765470295f62aecab189810",
            "65c55e6b56614f528979ee2fa7d94b93",
            "29ad515017624668ae7961f2e63ddcf1",
            "da9e6d1a837b439387fecb00bdc15a90",
            "b9017f1694b84f7ca4ea1b0505157020",
            "217d7b72e83b4f7680bb013cfab4ffb9",
            "634a67685bba465f9e9dd61326ca3ccb",
            "c710aacc0f6a45e693c2a6ebc21ad811",
            "54bad5f5cbc44d49b39329012d050ce4",
            "227baa6b8d0a406d8f542a28c1e55fe2",
            "6b94f58a3fe747d09da7e08e9040e8c0"
          ]
        },
        "id": "wKfmvL5xOrRJ",
        "outputId": "905b378a-2f3c-496f-d84d-c1278b411a76"
      },
      "execution_count": null,
      "outputs": [
        {
          "output_type": "display_data",
          "data": {
            "text/plain": [
              "Map:   0%|          | 0/13252 [00:00<?, ? examples/s]"
            ],
            "application/vnd.jupyter.widget-view+json": {
              "version_major": 2,
              "version_minor": 0,
              "model_id": "c05a979f0765470295f62aecab189810"
            }
          },
          "metadata": {}
        },
        {
          "output_type": "stream",
          "name": "stdout",
          "text": [
            "Tokenizasyon ve etiket dönüştürme tamamlandı.\n"
          ]
        }
      ]
    },
    {
      "cell_type": "code",
      "source": [
        "# Eğitim ve doğrulama veri seti ayırma\n",
        "print(\"Eğitim ve doğrulama veri seti ayrılıyor...\")\n",
        "tokenized_datasets = tokenized_datasets.train_test_split(test_size=0.1)\n",
        "train_dataset = tokenized_datasets[\"train\"]\n",
        "eval_dataset = tokenized_datasets[\"test\"]\n",
        "print(f\"Eğitim seti: {len(train_dataset)} satır, Test seti: {len(eval_dataset)} satır\")"
      ],
      "metadata": {
        "colab": {
          "base_uri": "https://localhost:8080/"
        },
        "id": "x4RaCntUOuxD",
        "outputId": "b4debc6d-d7bd-4612-ca22-5b4015c4243e"
      },
      "execution_count": null,
      "outputs": [
        {
          "output_type": "stream",
          "name": "stdout",
          "text": [
            "Eğitim ve doğrulama veri seti ayrılıyor...\n",
            "Eğitim seti: 11926 satır, Test seti: 1326 satır\n"
          ]
        }
      ]
    },
    {
      "cell_type": "markdown",
      "source": [
        "\n",
        "\n",
        "```\n",
        "# Eğitim Parametreleri\n",
        "```\n",
        "\n"
      ],
      "metadata": {
        "id": "Wzi1tIx_BQ9i"
      }
    },
    {
      "cell_type": "code",
      "source": [
        "print(\"Eğitim parametreleri ayarlanıyor...\")\n",
        "training_args = TrainingArguments(\n",
        "    output_dir=checkpoint_path,\n",
        "    eval_strategy=\"epoch\",\n",
        "    save_strategy=\"epoch\",\n",
        "    learning_rate=3e-5,\n",
        "    warmup_steps=5, #\n",
        "    lr_scheduler_type=\"cosine\", #\n",
        "    per_device_train_batch_size=8,\n",
        "    per_device_eval_batch_size=16,\n",
        "    num_train_epochs=60, # Her checkpoint artımında yükseltilecek\n",
        "    weight_decay=0.01,\n",
        "    logging_dir=\".\\logs_v6\", # Bunu düzelt.\n",
        "    logging_steps=10,\n",
        "    bf16=True, #\n",
        "    dataloader_num_workers=8, #TEST EDİLECEK\n",
        "    gradient_accumulation_steps=8,\n",
        "    optim=\"adamw_torch_fused\",\n",
        "    save_total_limit=4,\n",
        "    remove_unused_columns=False, # Burada sütun silinmesini devre dışı bırakıyoruz\n",
        "    report_to=\"tensorboard\", # tensorboard --logdir=./logs_v1 --port=6006  http://localhost:6006\n",
        "    load_best_model_at_end=True, #\n",
        "    resume_from_checkpoint=True #\n",
        ")\n",
        "print(\"Eğitim parametreleri ayarlandı.\")"
      ],
      "metadata": {
        "colab": {
          "base_uri": "https://localhost:8080/"
        },
        "id": "Opbf0NjmO40Y",
        "outputId": "5cdb7c60-6a8c-4216-cc7f-a3eac6e3d863"
      },
      "execution_count": null,
      "outputs": [
        {
          "output_type": "stream",
          "name": "stdout",
          "text": [
            "Eğitim parametreleri ayarlanıyor...\n",
            "Eğitim parametreleri ayarlandı.\n"
          ]
        }
      ]
    },
    {
      "cell_type": "code",
      "source": [
        "print(\"Trainer oluşturuluyor...\")\n",
        "data_collator = DataCollatorWithPadding(tokenizer)\n",
        "trainer = Trainer(\n",
        "    model=model,\n",
        "    args=training_args,\n",
        "    train_dataset=train_dataset,\n",
        "    eval_dataset=eval_dataset,\n",
        "    data_collator=data_collator\n",
        ")\n",
        "print(\"Trainer oluşturuldu.\")"
      ],
      "metadata": {
        "colab": {
          "base_uri": "https://localhost:8080/"
        },
        "id": "ZNqIuNaqO8Uf",
        "outputId": "76f4485a-4fbe-48bf-fe3b-395c03751633"
      },
      "execution_count": null,
      "outputs": [
        {
          "output_type": "stream",
          "name": "stdout",
          "text": [
            "Trainer oluşturuluyor...\n",
            "Trainer oluşturuldu.\n"
          ]
        }
      ]
    },
    {
      "cell_type": "code",
      "source": [
        "print(\"Eğitim başlıyor...\")\n",
        "trainer.train(resume_from_checkpoint=checkpoint_path) #\n",
        "print(\"Eğitim tamamlandı.\")"
      ],
      "metadata": {
        "colab": {
          "base_uri": "https://localhost:8080/",
          "height": 1000
        },
        "id": "Q6QoH7z3PFdP",
        "outputId": "3b936e0a-4a16-44a4-8cdd-208bc6a97568"
      },
      "execution_count": null,
      "outputs": [
        {
          "metadata": {
            "tags": null
          },
          "name": "stderr",
          "output_type": "stream",
          "text": [
            "You are resuming training from a checkpoint trained with 4.49.0 of Transformers but your current version is 4.50.0. This is not recommended and could yield to errors or unwanted behaviors.\n"
          ]
        },
        {
          "metadata": {
            "tags": null
          },
          "name": "stdout",
          "output_type": "stream",
          "text": [
            "Eğitim başlıyor...\n"
          ]
        },
        {
          "data": {
            "text/html": [
              "\n",
              "    <div>\n",
              "      \n",
              "      <progress value='5844' max='11160' style='width:300px; height:20px; vertical-align: middle;'></progress>\n",
              "      [ 5844/11160 22:55 < 39:56, 2.22 it/s, Epoch 31.33/60]\n",
              "    </div>\n",
              "    <table border=\"1\" class=\"dataframe\">\n",
              "  <thead>\n",
              " <tr style=\"text-align: left;\">\n",
              "      <th>Epoch</th>\n",
              "      <th>Training Loss</th>\n",
              "      <th>Validation Loss</th>\n",
              "    </tr>\n",
              "  </thead>\n",
              "  <tbody>\n",
              "    <tr>\n",
              "      <td>16</td>\n",
              "      <td>0.563700</td>\n",
              "      <td>0.496554</td>\n",
              "    </tr>\n",
              "    <tr>\n",
              "      <td>17</td>\n",
              "      <td>0.567500</td>\n",
              "      <td>0.478320</td>\n",
              "    </tr>\n",
              "    <tr>\n",
              "      <td>18</td>\n",
              "      <td>0.516900</td>\n",
              "      <td>0.459688</td>\n",
              "    </tr>\n",
              "    <tr>\n",
              "      <td>19</td>\n",
              "      <td>0.551200</td>\n",
              "      <td>0.447921</td>\n",
              "    </tr>\n",
              "    <tr>\n",
              "      <td>20</td>\n",
              "      <td>0.481600</td>\n",
              "      <td>0.438881</td>\n",
              "    </tr>\n",
              "    <tr>\n",
              "      <td>21</td>\n",
              "      <td>0.476000</td>\n",
              "      <td>0.435610</td>\n",
              "    </tr>\n",
              "    <tr>\n",
              "      <td>22</td>\n",
              "      <td>0.486200</td>\n",
              "      <td>0.425679</td>\n",
              "    </tr>\n",
              "    <tr>\n",
              "      <td>23</td>\n",
              "      <td>0.485500</td>\n",
              "      <td>0.419632</td>\n",
              "    </tr>\n",
              "    <tr>\n",
              "      <td>24</td>\n",
              "      <td>0.444100</td>\n",
              "      <td>0.427394</td>\n",
              "    </tr>\n",
              "    <tr>\n",
              "      <td>25</td>\n",
              "      <td>0.358800</td>\n",
              "      <td>0.410283</td>\n",
              "    </tr>\n",
              "    <tr>\n",
              "      <td>26</td>\n",
              "      <td>0.453700</td>\n",
              "      <td>0.407248</td>\n",
              "    </tr>\n",
              "    <tr>\n",
              "      <td>27</td>\n",
              "      <td>0.455800</td>\n",
              "      <td>0.405319</td>\n",
              "    </tr>\n",
              "    <tr>\n",
              "      <td>28</td>\n",
              "      <td>0.421200</td>\n",
              "      <td>0.407505</td>\n",
              "    </tr>\n",
              "    <tr>\n",
              "      <td>29</td>\n",
              "      <td>0.459200</td>\n",
              "      <td>0.414467</td>\n",
              "    </tr>\n",
              "    <tr>\n",
              "      <td>30</td>\n",
              "      <td>0.442500</td>\n",
              "      <td>0.402084</td>\n",
              "    </tr>\n",
              "    <tr>\n",
              "      <td>31</td>\n",
              "      <td>0.422800</td>\n",
              "      <td>0.403382</td>\n",
              "    </tr>\n",
              "  </tbody>\n",
              "</table><p>"
            ],
            "text/plain": [
              "<IPython.core.display.HTML object>"
            ]
          },
          "metadata": {},
          "output_type": "display_data"
        },
        {
          "output_type": "display_data",
          "data": {
            "text/plain": [
              "<IPython.core.display.HTML object>"
            ],
            "text/html": [
              "\n",
              "    <div>\n",
              "      \n",
              "      <progress value='11160' max='11160' style='width:300px; height:20px; vertical-align: middle;'></progress>\n",
              "      [11160/11160 1:02:53, Epoch 59/60]\n",
              "    </div>\n",
              "    <table border=\"1\" class=\"dataframe\">\n",
              "  <thead>\n",
              " <tr style=\"text-align: left;\">\n",
              "      <th>Epoch</th>\n",
              "      <th>Training Loss</th>\n",
              "      <th>Validation Loss</th>\n",
              "    </tr>\n",
              "  </thead>\n",
              "  <tbody>\n",
              "    <tr>\n",
              "      <td>16</td>\n",
              "      <td>0.563700</td>\n",
              "      <td>0.496554</td>\n",
              "    </tr>\n",
              "    <tr>\n",
              "      <td>17</td>\n",
              "      <td>0.567500</td>\n",
              "      <td>0.478320</td>\n",
              "    </tr>\n",
              "    <tr>\n",
              "      <td>18</td>\n",
              "      <td>0.516900</td>\n",
              "      <td>0.459688</td>\n",
              "    </tr>\n",
              "    <tr>\n",
              "      <td>19</td>\n",
              "      <td>0.551200</td>\n",
              "      <td>0.447921</td>\n",
              "    </tr>\n",
              "    <tr>\n",
              "      <td>20</td>\n",
              "      <td>0.481600</td>\n",
              "      <td>0.438881</td>\n",
              "    </tr>\n",
              "    <tr>\n",
              "      <td>21</td>\n",
              "      <td>0.476000</td>\n",
              "      <td>0.435610</td>\n",
              "    </tr>\n",
              "    <tr>\n",
              "      <td>22</td>\n",
              "      <td>0.486200</td>\n",
              "      <td>0.425679</td>\n",
              "    </tr>\n",
              "    <tr>\n",
              "      <td>23</td>\n",
              "      <td>0.485500</td>\n",
              "      <td>0.419632</td>\n",
              "    </tr>\n",
              "    <tr>\n",
              "      <td>24</td>\n",
              "      <td>0.444100</td>\n",
              "      <td>0.427394</td>\n",
              "    </tr>\n",
              "    <tr>\n",
              "      <td>25</td>\n",
              "      <td>0.358800</td>\n",
              "      <td>0.410283</td>\n",
              "    </tr>\n",
              "    <tr>\n",
              "      <td>26</td>\n",
              "      <td>0.453700</td>\n",
              "      <td>0.407248</td>\n",
              "    </tr>\n",
              "    <tr>\n",
              "      <td>27</td>\n",
              "      <td>0.455800</td>\n",
              "      <td>0.405319</td>\n",
              "    </tr>\n",
              "    <tr>\n",
              "      <td>28</td>\n",
              "      <td>0.421200</td>\n",
              "      <td>0.407505</td>\n",
              "    </tr>\n",
              "    <tr>\n",
              "      <td>29</td>\n",
              "      <td>0.459200</td>\n",
              "      <td>0.414467</td>\n",
              "    </tr>\n",
              "    <tr>\n",
              "      <td>30</td>\n",
              "      <td>0.442500</td>\n",
              "      <td>0.402084</td>\n",
              "    </tr>\n",
              "    <tr>\n",
              "      <td>31</td>\n",
              "      <td>0.422800</td>\n",
              "      <td>0.403382</td>\n",
              "    </tr>\n",
              "    <tr>\n",
              "      <td>32</td>\n",
              "      <td>0.397900</td>\n",
              "      <td>0.404756</td>\n",
              "    </tr>\n",
              "    <tr>\n",
              "      <td>33</td>\n",
              "      <td>0.433900</td>\n",
              "      <td>0.403317</td>\n",
              "    </tr>\n",
              "    <tr>\n",
              "      <td>34</td>\n",
              "      <td>0.446500</td>\n",
              "      <td>0.400056</td>\n",
              "    </tr>\n",
              "    <tr>\n",
              "      <td>35</td>\n",
              "      <td>0.364300</td>\n",
              "      <td>0.400783</td>\n",
              "    </tr>\n",
              "    <tr>\n",
              "      <td>36</td>\n",
              "      <td>0.411400</td>\n",
              "      <td>0.398473</td>\n",
              "    </tr>\n",
              "    <tr>\n",
              "      <td>37</td>\n",
              "      <td>0.363600</td>\n",
              "      <td>0.397913</td>\n",
              "    </tr>\n",
              "    <tr>\n",
              "      <td>38</td>\n",
              "      <td>0.376000</td>\n",
              "      <td>0.397313</td>\n",
              "    </tr>\n",
              "    <tr>\n",
              "      <td>39</td>\n",
              "      <td>0.375900</td>\n",
              "      <td>0.400390</td>\n",
              "    </tr>\n",
              "    <tr>\n",
              "      <td>40</td>\n",
              "      <td>0.374500</td>\n",
              "      <td>0.398548</td>\n",
              "    </tr>\n",
              "    <tr>\n",
              "      <td>41</td>\n",
              "      <td>0.387100</td>\n",
              "      <td>0.399197</td>\n",
              "    </tr>\n",
              "    <tr>\n",
              "      <td>42</td>\n",
              "      <td>0.391600</td>\n",
              "      <td>0.398838</td>\n",
              "    </tr>\n",
              "    <tr>\n",
              "      <td>43</td>\n",
              "      <td>0.410300</td>\n",
              "      <td>0.398017</td>\n",
              "    </tr>\n",
              "    <tr>\n",
              "      <td>44</td>\n",
              "      <td>0.438900</td>\n",
              "      <td>0.398305</td>\n",
              "    </tr>\n",
              "    <tr>\n",
              "      <td>45</td>\n",
              "      <td>0.356000</td>\n",
              "      <td>0.397709</td>\n",
              "    </tr>\n",
              "    <tr>\n",
              "      <td>46</td>\n",
              "      <td>0.386300</td>\n",
              "      <td>0.397406</td>\n",
              "    </tr>\n",
              "    <tr>\n",
              "      <td>47</td>\n",
              "      <td>0.440500</td>\n",
              "      <td>0.397739</td>\n",
              "    </tr>\n",
              "    <tr>\n",
              "      <td>48</td>\n",
              "      <td>0.353300</td>\n",
              "      <td>0.397448</td>\n",
              "    </tr>\n",
              "    <tr>\n",
              "      <td>49</td>\n",
              "      <td>0.398500</td>\n",
              "      <td>0.397567</td>\n",
              "    </tr>\n",
              "    <tr>\n",
              "      <td>50</td>\n",
              "      <td>0.378900</td>\n",
              "      <td>0.397219</td>\n",
              "    </tr>\n",
              "    <tr>\n",
              "      <td>51</td>\n",
              "      <td>0.361500</td>\n",
              "      <td>0.397248</td>\n",
              "    </tr>\n",
              "    <tr>\n",
              "      <td>52</td>\n",
              "      <td>0.384200</td>\n",
              "      <td>0.397246</td>\n",
              "    </tr>\n",
              "    <tr>\n",
              "      <td>53</td>\n",
              "      <td>0.391100</td>\n",
              "      <td>0.397086</td>\n",
              "    </tr>\n",
              "    <tr>\n",
              "      <td>54</td>\n",
              "      <td>0.403000</td>\n",
              "      <td>0.397150</td>\n",
              "    </tr>\n",
              "    <tr>\n",
              "      <td>55</td>\n",
              "      <td>0.385500</td>\n",
              "      <td>0.397111</td>\n",
              "    </tr>\n",
              "    <tr>\n",
              "      <td>56</td>\n",
              "      <td>0.399000</td>\n",
              "      <td>0.397202</td>\n",
              "    </tr>\n",
              "    <tr>\n",
              "      <td>57</td>\n",
              "      <td>0.405500</td>\n",
              "      <td>0.397223</td>\n",
              "    </tr>\n",
              "    <tr>\n",
              "      <td>58</td>\n",
              "      <td>0.408800</td>\n",
              "      <td>0.397223</td>\n",
              "    </tr>\n",
              "    <tr>\n",
              "      <td>59</td>\n",
              "      <td>0.409700</td>\n",
              "      <td>0.397131</td>\n",
              "    </tr>\n",
              "  </tbody>\n",
              "</table><p>"
            ]
          },
          "metadata": {}
        },
        {
          "output_type": "stream",
          "name": "stdout",
          "text": [
            "Eğitim tamamlandı.\n"
          ]
        }
      ]
    },
    {
      "cell_type": "code",
      "source": [
        "print(\"Model kaydediliyor...\")\n",
        "model_path = \"/content/drive/MyDrive/merkut_llm_2025/bert_finetuned_v3\"\n",
        "model.save_pretrained(model_path)\n",
        "tokenizer.save_pretrained(model_path)\n",
        "print(\"Model kaydedildi.\")"
      ],
      "metadata": {
        "id": "5Lo77W0SPNIP",
        "colab": {
          "base_uri": "https://localhost:8080/"
        },
        "outputId": "f46ac8a7-286e-4d04-d982-2f627d1d8e67"
      },
      "execution_count": null,
      "outputs": [
        {
          "output_type": "stream",
          "name": "stdout",
          "text": [
            "Model kaydediliyor...\n",
            "Model kaydedildi.\n"
          ]
        }
      ]
    },
    {
      "cell_type": "code",
      "source": [
        "print(\"Model değerlendiriliyor...\")\n",
        "results = trainer.evaluate()\n",
        "print(\"Değerlendirme sonuçları:\", results)"
      ],
      "metadata": {
        "id": "BDSO_YdzPQ0C",
        "colab": {
          "base_uri": "https://localhost:8080/",
          "height": 92
        },
        "outputId": "7a73505d-279b-4020-d263-e54caf6fac77"
      },
      "execution_count": null,
      "outputs": [
        {
          "output_type": "stream",
          "name": "stdout",
          "text": [
            "Model değerlendiriliyor...\n"
          ]
        },
        {
          "output_type": "display_data",
          "data": {
            "text/plain": [
              "<IPython.core.display.HTML object>"
            ],
            "text/html": [
              "\n",
              "    <div>\n",
              "      \n",
              "      <progress value='83' max='83' style='width:300px; height:20px; vertical-align: middle;'></progress>\n",
              "      [83/83 00:01]\n",
              "    </div>\n",
              "    "
            ]
          },
          "metadata": {}
        },
        {
          "output_type": "stream",
          "name": "stdout",
          "text": [
            "Değerlendirme sonuçları: {'eval_loss': 0.39706167578697205, 'eval_runtime': 1.7355, 'eval_samples_per_second': 764.034, 'eval_steps_per_second': 47.824, 'epoch': 59.76190476190476}\n"
          ]
        }
      ]
    }
  ]
}
